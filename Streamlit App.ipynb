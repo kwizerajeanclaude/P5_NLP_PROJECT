{
 "cells": [
  {
   "cell_type": "markdown",
   "metadata": {},
   "source": [
    "### TEXT CLASSIFICATION STREAMLIT APP BULDING"
   ]
  },
  {
   "cell_type": "markdown",
   "metadata": {},
   "source": [
    "*Installation and Importation of Libraries needed*"
   ]
  },
  {
   "cell_type": "code",
   "execution_count": 1,
   "metadata": {},
   "outputs": [
    {
     "name": "stdout",
     "output_type": "stream",
     "text": [
      "Requirement already satisfied: streamlit in c:\\users\\marth\\onedrive - azubi africa\\sprints\\lp5\\venv\\lib\\site-packages (1.28.1)\n",
      "Requirement already satisfied: transformers in c:\\users\\marth\\onedrive - azubi africa\\sprints\\lp5\\venv\\lib\\site-packages (4.35.0)\n",
      "Requirement already satisfied: altair<6,>=4.0 in c:\\users\\marth\\onedrive - azubi africa\\sprints\\lp5\\venv\\lib\\site-packages (from streamlit) (5.1.2)\n",
      "Requirement already satisfied: blinker<2,>=1.0.0 in c:\\users\\marth\\onedrive - azubi africa\\sprints\\lp5\\venv\\lib\\site-packages (from streamlit) (1.7.0)\n",
      "Requirement already satisfied: cachetools<6,>=4.0 in c:\\users\\marth\\onedrive - azubi africa\\sprints\\lp5\\venv\\lib\\site-packages (from streamlit) (5.3.2)\n",
      "Requirement already satisfied: click<9,>=7.0 in c:\\users\\marth\\onedrive - azubi africa\\sprints\\lp5\\venv\\lib\\site-packages (from streamlit) (8.1.7)\n",
      "Requirement already satisfied: importlib-metadata<7,>=1.4 in c:\\users\\marth\\onedrive - azubi africa\\sprints\\lp5\\venv\\lib\\site-packages (from streamlit) (6.8.0)\n",
      "Requirement already satisfied: numpy<2,>=1.19.3 in c:\\users\\marth\\onedrive - azubi africa\\sprints\\lp5\\venv\\lib\\site-packages (from streamlit) (1.26.1)\n",
      "Requirement already satisfied: packaging<24,>=16.8 in c:\\users\\marth\\onedrive - azubi africa\\sprints\\lp5\\venv\\lib\\site-packages (from streamlit) (23.2)\n",
      "Requirement already satisfied: pandas<3,>=1.3.0 in c:\\users\\marth\\onedrive - azubi africa\\sprints\\lp5\\venv\\lib\\site-packages (from streamlit) (2.1.2)\n",
      "Requirement already satisfied: pillow<11,>=7.1.0 in c:\\users\\marth\\onedrive - azubi africa\\sprints\\lp5\\venv\\lib\\site-packages (from streamlit) (10.1.0)\n",
      "Requirement already satisfied: protobuf<5,>=3.20 in c:\\users\\marth\\onedrive - azubi africa\\sprints\\lp5\\venv\\lib\\site-packages (from streamlit) (4.25.0)\n",
      "Requirement already satisfied: pyarrow>=6.0 in c:\\users\\marth\\onedrive - azubi africa\\sprints\\lp5\\venv\\lib\\site-packages (from streamlit) (14.0.0)\n",
      "Requirement already satisfied: python-dateutil<3,>=2.7.3 in c:\\users\\marth\\onedrive - azubi africa\\sprints\\lp5\\venv\\lib\\site-packages (from streamlit) (2.8.2)\n",
      "Requirement already satisfied: requests<3,>=2.27 in c:\\users\\marth\\onedrive - azubi africa\\sprints\\lp5\\venv\\lib\\site-packages (from streamlit) (2.31.0)\n",
      "Requirement already satisfied: rich<14,>=10.14.0 in c:\\users\\marth\\onedrive - azubi africa\\sprints\\lp5\\venv\\lib\\site-packages (from streamlit) (13.6.0)\n",
      "Requirement already satisfied: tenacity<9,>=8.1.0 in c:\\users\\marth\\onedrive - azubi africa\\sprints\\lp5\\venv\\lib\\site-packages (from streamlit) (8.2.3)\n",
      "Requirement already satisfied: toml<2,>=0.10.1 in c:\\users\\marth\\onedrive - azubi africa\\sprints\\lp5\\venv\\lib\\site-packages (from streamlit) (0.10.2)\n",
      "Requirement already satisfied: typing-extensions<5,>=4.3.0 in c:\\users\\marth\\onedrive - azubi africa\\sprints\\lp5\\venv\\lib\\site-packages (from streamlit) (4.8.0)\n",
      "Requirement already satisfied: tzlocal<6,>=1.1 in c:\\users\\marth\\onedrive - azubi africa\\sprints\\lp5\\venv\\lib\\site-packages (from streamlit) (5.2)\n",
      "Requirement already satisfied: validators<1,>=0.2 in c:\\users\\marth\\onedrive - azubi africa\\sprints\\lp5\\venv\\lib\\site-packages (from streamlit) (0.22.0)\n",
      "Requirement already satisfied: gitpython!=3.1.19,<4,>=3.0.7 in c:\\users\\marth\\onedrive - azubi africa\\sprints\\lp5\\venv\\lib\\site-packages (from streamlit) (3.1.40)\n",
      "Requirement already satisfied: pydeck<1,>=0.8.0b4 in c:\\users\\marth\\onedrive - azubi africa\\sprints\\lp5\\venv\\lib\\site-packages (from streamlit) (0.8.1b0)\n",
      "Requirement already satisfied: tornado<7,>=6.0.3 in c:\\users\\marth\\onedrive - azubi africa\\sprints\\lp5\\venv\\lib\\site-packages (from streamlit) (6.3.3)\n",
      "Requirement already satisfied: watchdog>=2.1.5 in c:\\users\\marth\\onedrive - azubi africa\\sprints\\lp5\\venv\\lib\\site-packages (from streamlit) (3.0.0)\n",
      "Requirement already satisfied: filelock in c:\\users\\marth\\onedrive - azubi africa\\sprints\\lp5\\venv\\lib\\site-packages (from transformers) (3.13.1)\n",
      "Requirement already satisfied: huggingface-hub<1.0,>=0.16.4 in c:\\users\\marth\\onedrive - azubi africa\\sprints\\lp5\\venv\\lib\\site-packages (from transformers) (0.17.3)\n",
      "Requirement already satisfied: pyyaml>=5.1 in c:\\users\\marth\\onedrive - azubi africa\\sprints\\lp5\\venv\\lib\\site-packages (from transformers) (6.0.1)\n",
      "Requirement already satisfied: regex!=2019.12.17 in c:\\users\\marth\\onedrive - azubi africa\\sprints\\lp5\\venv\\lib\\site-packages (from transformers) (2023.10.3)\n",
      "Requirement already satisfied: tokenizers<0.15,>=0.14 in c:\\users\\marth\\onedrive - azubi africa\\sprints\\lp5\\venv\\lib\\site-packages (from transformers) (0.14.1)\n",
      "Requirement already satisfied: safetensors>=0.3.1 in c:\\users\\marth\\onedrive - azubi africa\\sprints\\lp5\\venv\\lib\\site-packages (from transformers) (0.4.0)\n",
      "Requirement already satisfied: tqdm>=4.27 in c:\\users\\marth\\onedrive - azubi africa\\sprints\\lp5\\venv\\lib\\site-packages (from transformers) (4.66.1)\n",
      "Requirement already satisfied: jinja2 in c:\\users\\marth\\onedrive - azubi africa\\sprints\\lp5\\venv\\lib\\site-packages (from altair<6,>=4.0->streamlit) (3.1.2)\n",
      "Requirement already satisfied: jsonschema>=3.0 in c:\\users\\marth\\onedrive - azubi africa\\sprints\\lp5\\venv\\lib\\site-packages (from altair<6,>=4.0->streamlit) (4.19.2)\n",
      "Requirement already satisfied: toolz in c:\\users\\marth\\onedrive - azubi africa\\sprints\\lp5\\venv\\lib\\site-packages (from altair<6,>=4.0->streamlit) (0.12.0)\n",
      "Requirement already satisfied: colorama in c:\\users\\marth\\onedrive - azubi africa\\sprints\\lp5\\venv\\lib\\site-packages (from click<9,>=7.0->streamlit) (0.4.6)\n",
      "Requirement already satisfied: gitdb<5,>=4.0.1 in c:\\users\\marth\\onedrive - azubi africa\\sprints\\lp5\\venv\\lib\\site-packages (from gitpython!=3.1.19,<4,>=3.0.7->streamlit) (4.0.11)\n",
      "Requirement already satisfied: fsspec in c:\\users\\marth\\onedrive - azubi africa\\sprints\\lp5\\venv\\lib\\site-packages (from huggingface-hub<1.0,>=0.16.4->transformers) (2023.10.0)\n",
      "Requirement already satisfied: zipp>=0.5 in c:\\users\\marth\\onedrive - azubi africa\\sprints\\lp5\\venv\\lib\\site-packages (from importlib-metadata<7,>=1.4->streamlit) (3.17.0)\n",
      "Requirement already satisfied: pytz>=2020.1 in c:\\users\\marth\\onedrive - azubi africa\\sprints\\lp5\\venv\\lib\\site-packages (from pandas<3,>=1.3.0->streamlit) (2023.3.post1)\n",
      "Requirement already satisfied: tzdata>=2022.1 in c:\\users\\marth\\onedrive - azubi africa\\sprints\\lp5\\venv\\lib\\site-packages (from pandas<3,>=1.3.0->streamlit) (2023.3)\n",
      "Requirement already satisfied: six>=1.5 in c:\\users\\marth\\onedrive - azubi africa\\sprints\\lp5\\venv\\lib\\site-packages (from python-dateutil<3,>=2.7.3->streamlit) (1.16.0)\n",
      "Requirement already satisfied: charset-normalizer<4,>=2 in c:\\users\\marth\\onedrive - azubi africa\\sprints\\lp5\\venv\\lib\\site-packages (from requests<3,>=2.27->streamlit) (3.3.2)\n",
      "Requirement already satisfied: idna<4,>=2.5 in c:\\users\\marth\\onedrive - azubi africa\\sprints\\lp5\\venv\\lib\\site-packages (from requests<3,>=2.27->streamlit) (3.4)\n",
      "Requirement already satisfied: urllib3<3,>=1.21.1 in c:\\users\\marth\\onedrive - azubi africa\\sprints\\lp5\\venv\\lib\\site-packages (from requests<3,>=2.27->streamlit) (2.0.7)\n",
      "Requirement already satisfied: certifi>=2017.4.17 in c:\\users\\marth\\onedrive - azubi africa\\sprints\\lp5\\venv\\lib\\site-packages (from requests<3,>=2.27->streamlit) (2023.7.22)\n",
      "Requirement already satisfied: markdown-it-py>=2.2.0 in c:\\users\\marth\\onedrive - azubi africa\\sprints\\lp5\\venv\\lib\\site-packages (from rich<14,>=10.14.0->streamlit) (3.0.0)\n",
      "Requirement already satisfied: pygments<3.0.0,>=2.13.0 in c:\\users\\marth\\onedrive - azubi africa\\sprints\\lp5\\venv\\lib\\site-packages (from rich<14,>=10.14.0->streamlit) (2.16.1)\n",
      "Requirement already satisfied: smmap<6,>=3.0.1 in c:\\users\\marth\\onedrive - azubi africa\\sprints\\lp5\\venv\\lib\\site-packages (from gitdb<5,>=4.0.1->gitpython!=3.1.19,<4,>=3.0.7->streamlit) (5.0.1)\n",
      "Requirement already satisfied: MarkupSafe>=2.0 in c:\\users\\marth\\onedrive - azubi africa\\sprints\\lp5\\venv\\lib\\site-packages (from jinja2->altair<6,>=4.0->streamlit) (2.1.3)\n",
      "Requirement already satisfied: attrs>=22.2.0 in c:\\users\\marth\\onedrive - azubi africa\\sprints\\lp5\\venv\\lib\\site-packages (from jsonschema>=3.0->altair<6,>=4.0->streamlit) (23.1.0)\n",
      "Requirement already satisfied: jsonschema-specifications>=2023.03.6 in c:\\users\\marth\\onedrive - azubi africa\\sprints\\lp5\\venv\\lib\\site-packages (from jsonschema>=3.0->altair<6,>=4.0->streamlit) (2023.7.1)\n",
      "Requirement already satisfied: referencing>=0.28.4 in c:\\users\\marth\\onedrive - azubi africa\\sprints\\lp5\\venv\\lib\\site-packages (from jsonschema>=3.0->altair<6,>=4.0->streamlit) (0.30.2)\n",
      "Requirement already satisfied: rpds-py>=0.7.1 in c:\\users\\marth\\onedrive - azubi africa\\sprints\\lp5\\venv\\lib\\site-packages (from jsonschema>=3.0->altair<6,>=4.0->streamlit) (0.12.0)\n",
      "Requirement already satisfied: mdurl~=0.1 in c:\\users\\marth\\onedrive - azubi africa\\sprints\\lp5\\venv\\lib\\site-packages (from markdown-it-py>=2.2.0->rich<14,>=10.14.0->streamlit) (0.1.2)\n",
      "Note: you may need to restart the kernel to use updated packages.\n",
      "Requirement already satisfied: scipy in c:\\users\\marth\\onedrive - azubi africa\\sprints\\lp5\\venv\\lib\\site-packages (1.11.3)\n",
      "Requirement already satisfied: numpy<1.28.0,>=1.21.6 in c:\\users\\marth\\onedrive - azubi africa\\sprints\\lp5\\venv\\lib\\site-packages (from scipy) (1.26.1)\n",
      "Note: you may need to restart the kernel to use updated packages.\n",
      "Requirement already satisfied: transformers[torch] in c:\\users\\marth\\onedrive - azubi africa\\sprints\\lp5\\venv\\lib\\site-packages (4.35.0)\n",
      "Requirement already satisfied: filelock in c:\\users\\marth\\onedrive - azubi africa\\sprints\\lp5\\venv\\lib\\site-packages (from transformers[torch]) (3.13.1)\n",
      "Requirement already satisfied: huggingface-hub<1.0,>=0.16.4 in c:\\users\\marth\\onedrive - azubi africa\\sprints\\lp5\\venv\\lib\\site-packages (from transformers[torch]) (0.17.3)\n",
      "Requirement already satisfied: numpy>=1.17 in c:\\users\\marth\\onedrive - azubi africa\\sprints\\lp5\\venv\\lib\\site-packages (from transformers[torch]) (1.26.1)\n",
      "Requirement already satisfied: packaging>=20.0 in c:\\users\\marth\\onedrive - azubi africa\\sprints\\lp5\\venv\\lib\\site-packages (from transformers[torch]) (23.2)\n",
      "Requirement already satisfied: pyyaml>=5.1 in c:\\users\\marth\\onedrive - azubi africa\\sprints\\lp5\\venv\\lib\\site-packages (from transformers[torch]) (6.0.1)\n",
      "Requirement already satisfied: regex!=2019.12.17 in c:\\users\\marth\\onedrive - azubi africa\\sprints\\lp5\\venv\\lib\\site-packages (from transformers[torch]) (2023.10.3)\n",
      "Requirement already satisfied: requests in c:\\users\\marth\\onedrive - azubi africa\\sprints\\lp5\\venv\\lib\\site-packages (from transformers[torch]) (2.31.0)\n",
      "Requirement already satisfied: tokenizers<0.15,>=0.14 in c:\\users\\marth\\onedrive - azubi africa\\sprints\\lp5\\venv\\lib\\site-packages (from transformers[torch]) (0.14.1)\n",
      "Requirement already satisfied: safetensors>=0.3.1 in c:\\users\\marth\\onedrive - azubi africa\\sprints\\lp5\\venv\\lib\\site-packages (from transformers[torch]) (0.4.0)\n",
      "Requirement already satisfied: tqdm>=4.27 in c:\\users\\marth\\onedrive - azubi africa\\sprints\\lp5\\venv\\lib\\site-packages (from transformers[torch]) (4.66.1)\n",
      "Requirement already satisfied: torch!=1.12.0,>=1.10 in c:\\users\\marth\\onedrive - azubi africa\\sprints\\lp5\\venv\\lib\\site-packages (from transformers[torch]) (2.1.0)\n",
      "Requirement already satisfied: accelerate>=0.20.3 in c:\\users\\marth\\onedrive - azubi africa\\sprints\\lp5\\venv\\lib\\site-packages (from transformers[torch]) (0.24.1)\n",
      "Requirement already satisfied: psutil in c:\\users\\marth\\onedrive - azubi africa\\sprints\\lp5\\venv\\lib\\site-packages (from accelerate>=0.20.3->transformers[torch]) (5.9.6)\n",
      "Requirement already satisfied: fsspec in c:\\users\\marth\\onedrive - azubi africa\\sprints\\lp5\\venv\\lib\\site-packages (from huggingface-hub<1.0,>=0.16.4->transformers[torch]) (2023.10.0)\n",
      "Requirement already satisfied: typing-extensions>=3.7.4.3 in c:\\users\\marth\\onedrive - azubi africa\\sprints\\lp5\\venv\\lib\\site-packages (from huggingface-hub<1.0,>=0.16.4->transformers[torch]) (4.8.0)\n",
      "Requirement already satisfied: sympy in c:\\users\\marth\\onedrive - azubi africa\\sprints\\lp5\\venv\\lib\\site-packages (from torch!=1.12.0,>=1.10->transformers[torch]) (1.12)\n",
      "Requirement already satisfied: networkx in c:\\users\\marth\\onedrive - azubi africa\\sprints\\lp5\\venv\\lib\\site-packages (from torch!=1.12.0,>=1.10->transformers[torch]) (3.2.1)\n",
      "Requirement already satisfied: jinja2 in c:\\users\\marth\\onedrive - azubi africa\\sprints\\lp5\\venv\\lib\\site-packages (from torch!=1.12.0,>=1.10->transformers[torch]) (3.1.2)\n",
      "Requirement already satisfied: colorama in c:\\users\\marth\\onedrive - azubi africa\\sprints\\lp5\\venv\\lib\\site-packages (from tqdm>=4.27->transformers[torch]) (0.4.6)\n",
      "Requirement already satisfied: charset-normalizer<4,>=2 in c:\\users\\marth\\onedrive - azubi africa\\sprints\\lp5\\venv\\lib\\site-packages (from requests->transformers[torch]) (3.3.2)\n",
      "Requirement already satisfied: idna<4,>=2.5 in c:\\users\\marth\\onedrive - azubi africa\\sprints\\lp5\\venv\\lib\\site-packages (from requests->transformers[torch]) (3.4)\n",
      "Requirement already satisfied: urllib3<3,>=1.21.1 in c:\\users\\marth\\onedrive - azubi africa\\sprints\\lp5\\venv\\lib\\site-packages (from requests->transformers[torch]) (2.0.7)\n",
      "Requirement already satisfied: certifi>=2017.4.17 in c:\\users\\marth\\onedrive - azubi africa\\sprints\\lp5\\venv\\lib\\site-packages (from requests->transformers[torch]) (2023.7.22)\n",
      "Requirement already satisfied: MarkupSafe>=2.0 in c:\\users\\marth\\onedrive - azubi africa\\sprints\\lp5\\venv\\lib\\site-packages (from jinja2->torch!=1.12.0,>=1.10->transformers[torch]) (2.1.3)\n",
      "Requirement already satisfied: mpmath>=0.19 in c:\\users\\marth\\onedrive - azubi africa\\sprints\\lp5\\venv\\lib\\site-packages (from sympy->torch!=1.12.0,>=1.10->transformers[torch]) (1.3.0)\n",
      "Note: you may need to restart the kernel to use updated packages.\n"
     ]
    }
   ],
   "source": [
    "#Installations\n",
    "#Installation\n",
    "%pip install streamlit transformers\n",
    "%pip install scipy\n",
    "%pip install transformers[torch] --upgrade"
   ]
  },
  {
   "cell_type": "code",
   "execution_count": 2,
   "metadata": {},
   "outputs": [
    {
     "name": "stderr",
     "output_type": "stream",
     "text": [
      "c:\\Users\\marth\\OneDrive - Azubi Africa\\Sprints\\LP5\\venv\\Lib\\site-packages\\tqdm\\auto.py:21: TqdmWarning: IProgress not found. Please update jupyter and ipywidgets. See https://ipywidgets.readthedocs.io/en/stable/user_install.html\n",
      "  from .autonotebook import tqdm as notebook_tqdm\n"
     ]
    }
   ],
   "source": [
    "#Importations\n",
    "from transformers import AutoModelForSequenceClassification\n",
    "from transformers import TFAutoModelForSequenceClassification\n",
    "from transformers import AutoTokenizer, AutoConfig\n",
    "import numpy as np\n",
    "from scipy.special import softmax\n",
    "import streamlit as st"
   ]
  },
  {
   "cell_type": "code",
   "execution_count": 3,
   "metadata": {},
   "outputs": [
    {
     "name": "stderr",
     "output_type": "stream",
     "text": [
      "2023-11-05 19:38:34.951 \n",
      "  \u001b[33m\u001b[1mWarning:\u001b[0m to view this Streamlit app on a browser, run it with the following\n",
      "  command:\n",
      "\n",
      "    streamlit run c:\\Users\\marth\\OneDrive - Azubi Africa\\Sprints\\LP5\\venv\\Lib\\site-packages\\ipykernel_launcher.py [ARGUMENTS]\n"
     ]
    }
   ],
   "source": [
    "# Requirements\n",
    "model_path = f\"MarthaK-Coder/test_trainer\"\n",
    "tokenizer = AutoTokenizer.from_pretrained('bert-base-cased')\n",
    "config = AutoConfig.from_pretrained(model_path)\n",
    "model = AutoModelForSequenceClassification.from_pretrained(model_path)\n",
    "\n",
    "# Preprocess text (username and link placeholders)\n",
    "def preprocess(text):\n",
    "    new_text = []\n",
    "    for t in text.split(\" \"):\n",
    "        t = '@user' if t.startswith('@') and len(t) > 1 else t\n",
    "        t = 'http' if t.startswith('http') else t\n",
    "        new_text.append(t)\n",
    "    return \" \".join(new_text)\n",
    "\n",
    "\n",
    "def sentiment_analysis(text):\n",
    "    text = preprocess(text)\n",
    "\n",
    "    # PyTorch-based models\n",
    "    encoded_input = tokenizer(text, return_tensors='pt')\n",
    "    output = model(**encoded_input)\n",
    "    scores_ = output[0][0].detach().numpy()\n",
    "    scores_ = softmax(scores_)\n",
    "    \n",
    "    # Format output dict of scores\n",
    "    labels = ['Negative', 'Neutral', 'Positive']\n",
    "    scores = {l:float(s) for (l,s) in zip(labels, scores_) }\n",
    "    \n",
    "    return scores\n",
    "\n",
    "# Streamlit app\n",
    "st.title(\"Sentiment Analysis App\")\n",
    "\n",
    "user_input = st.text_area(\"Enter a text for sentiment analysis:\")\n",
    "if st.button(\"Analyze Sentiment\"):\n",
    "    if user_input:\n",
    "        scores = sentiment_analysis(user_input)\n",
    "        st.write(\"Sentiment Scores:\")\n",
    "        for label, score in scores.items():\n",
    "            st.write(f\"{label}: {score:.3f}\")\n",
    "    else:\n",
    "        st.warning(\"Please enter a text for analysis.\")"
   ]
  }
 ],
 "metadata": {
  "kernelspec": {
   "display_name": "venv",
   "language": "python",
   "name": "python3"
  },
  "language_info": {
   "codemirror_mode": {
    "name": "ipython",
    "version": 3
   },
   "file_extension": ".py",
   "mimetype": "text/x-python",
   "name": "python",
   "nbconvert_exporter": "python",
   "pygments_lexer": "ipython3",
   "version": "3.11.4"
  }
 },
 "nbformat": 4,
 "nbformat_minor": 2
}
